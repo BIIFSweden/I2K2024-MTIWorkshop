{
 "cells": [
  {
   "cell_type": "markdown",
   "id": "64363c52-0d98-4be1-bb7e-f98cfe43bec2",
   "metadata": {},
   "source": [
    "# Spatial analysis\n",
    "\n",
    "After running PIPEX on our images, we would like to load the images and results into a `SpatialData` Object. Afterwards, we can interactively look at it with Napari  or run more spatial analyses with SquidPy"
   ]
  },
  {
   "cell_type": "code",
   "execution_count": 1,
   "id": "269075d2-940a-40f9-9cea-859bad10cbd0",
   "metadata": {},
   "outputs": [],
   "source": [
    "from anndata import read_h5ad\n",
    "from pathlib import Path\n",
    "from napari_spatialdata import Interactive\n",
    "import numpy as np\n",
    "from spatialdata import SpatialData\n",
    "from spatialdata.models import Image2DModel, Labels2DModel, TableModel\n",
    "import tifffile"
   ]
  },
  {
   "cell_type": "markdown",
   "id": "aa9be6ee-d5e4-4372-b50c-fd1753ab201b",
   "metadata": {},
   "source": [
    "## Data download\n",
    "\n",
    "You can download the data from [here](https://ell-vault.stanford.edu/dav/fredbn/www/I2K/pipex_data.zip) and unzip it into the data folder inside the `I2K2024-MTIWOKSHOP` folder.\n",
    "\n",
    "If it didn't work, you can uncomment the lines in the cell below and tun them."
   ]
  },
  {
   "cell_type": "code",
   "execution_count": null,
   "id": "9289eb04-3d96-42a8-8608-e56ae5740867",
   "metadata": {},
   "outputs": [],
   "source": [
    "from utils import download_and_unzip\n",
    "\n",
    "file_url = \"https://ell-vault.stanford.edu/dav/fredbn/www/I2K/pipex_data.zip\"\n",
    "output_folder = '../data'\n",
    "download_and_unzip(file_url, output_folder)"
   ]
  },
  {
   "cell_type": "markdown",
   "id": "0f186f7b-9432-4d3d-b5af-086338ea6211",
   "metadata": {},
   "source": [
    "## SpatialData construction\n",
    "\n",
    "We can begin by stating the directories of the pipex results, images and where we would like to store the SPatialData Objects as a Zarr."
   ]
  },
  {
   "cell_type": "code",
   "execution_count": 4,
   "id": "2ac4d0c8-b260-4fb1-99f2-d5b10e0b911f",
   "metadata": {},
   "outputs": [],
   "source": [
    "pipex_dir = Path(\"../data/data/analysis\")\n",
    "images_dir = Path(\"../data/data\")\n",
    "sdata_file = Path(\"../data/pipex.zarr\")"
   ]
  },
  {
   "cell_type": "code",
   "execution_count": null,
   "id": "9c152258-5216-487a-8882-5282c6c627bd",
   "metadata": {},
   "outputs": [],
   "source": [
    "channels = []\n",
    "channel_imgs = []\n",
    "for channel_img_file in sorted(images_dir.glob(\"*.tif\")):\n",
    "    channel_img = tifffile.imread(channel_img_file)\n",
    "    channels.append(channel_img_file.stem)\n",
    "    channel_imgs.append(channel_img)\n",
    "img = np.stack(channel_imgs)\n",
    "img.shape"
   ]
  },
  {
   "cell_type": "code",
   "execution_count": null,
   "id": "e88ee376-cb38-4a13-8e65-07d0d387e976",
   "metadata": {},
   "outputs": [],
   "source": [
    "labels_file = pipex_dir / \"segmentation_data.npy\"\n",
    "labels = np.load(labels_file).astype(np.uint16)\n",
    "labels.shape"
   ]
  },
  {
   "cell_type": "code",
   "execution_count": null,
   "id": "08b0a289-9a98-43d2-80af-3ff98713f5b5",
   "metadata": {},
   "outputs": [],
   "source": [
    "cells_file = pipex_dir / \"downstream\" / \"anndata_TissUUmaps.h5ad\"\n",
    "cells = read_h5ad(cells_file) \n",
    "cells"
   ]
  },
  {
   "cell_type": "markdown",
   "id": "2ac67430",
   "metadata": {},
   "source": [
    "We need to add some information to relate the AnnData information in the table to the cells detected and shown in the labels."
   ]
  },
  {
   "cell_type": "code",
   "execution_count": 8,
   "id": "cc412ded",
   "metadata": {},
   "outputs": [],
   "source": [
    "cells.uns[\"spatialdata_attrs\"] = {\"region\": [\"labels\"],\n",
    "                                  \"region_key\": \"sample_id\",\n",
    "                                  \"instance_key\": \"id\"}\n",
    "cells.obs[\"sample_id\"] = \"labels\"\n",
    "cells.obs[\"sample_id\"] = cells.obs[\"sample_id\"].astype(\"category\")"
   ]
  },
  {
   "cell_type": "code",
   "execution_count": null,
   "id": "74fffd39-97ea-4e33-bd4d-9d55e5565e78",
   "metadata": {},
   "outputs": [],
   "source": [
    "sdata = SpatialData(\n",
    "    images={\"images\": Image2DModel.parse(img, dims=(\"c\", \"y\", \"x\"), c_coords=channels)},\n",
    "    labels={\"labels\": Labels2DModel.parse(labels, dims=(\"y\", \"x\"))},\n",
    "    tables={\"table\": TableModel.parse(cells)},\n",
    ")\n",
    "sdata.write(sdata_file, overwrite=True)\n",
    "sdata"
   ]
  },
  {
   "cell_type": "code",
   "execution_count": null,
   "id": "d13c6579-1d98-464b-af3b-80233b344d00",
   "metadata": {},
   "outputs": [],
   "source": [
    "Interactive(sdata)"
   ]
  },
  {
   "cell_type": "markdown",
   "id": "9faf1707-bdb0-4a37-9c79-7663999a06a0",
   "metadata": {},
   "source": [
    "## Spatial single-cell analysis\n",
    "\n",
    "We can begin by reading the spatial data file constructed on the previous subsection."
   ]
  },
  {
   "cell_type": "code",
   "execution_count": null,
   "id": "b0250b31-21c1-498e-bd88-666759bb333c",
   "metadata": {},
   "outputs": [],
   "source": [
    "sdata_file = \"../data/pipex.zarr\"\n",
    "sdata = SpatialData.read(sdata_file)"
   ]
  },
  {
   "cell_type": "code",
   "execution_count": 45,
   "id": "5e41b178",
   "metadata": {},
   "outputs": [],
   "source": [
    "# import scanpy as sc\n",
    "import squidpy as sq"
   ]
  },
  {
   "cell_type": "code",
   "execution_count": 11,
   "id": "32ef5ce2",
   "metadata": {},
   "outputs": [],
   "source": [
    "# sq.gr.spatial_neighbors(sdata[\"cells\"])"
   ]
  },
  {
   "cell_type": "code",
   "execution_count": null,
   "id": "262dad55",
   "metadata": {},
   "outputs": [],
   "source": [
    "# sq.gr.nhood_enrichment(sdata[\"cells\"], cluster_key=\"leiden\")\n",
    "sq.pl.nhood_enrichment(sdata[\"table\"], cluster_key=\"leiden\", figsize=(5, 5))"
   ]
  },
  {
   "cell_type": "code",
   "execution_count": 109,
   "id": "5b8ea390",
   "metadata": {},
   "outputs": [],
   "source": [
    "spatial_key = \"spatial\"\n",
    "library_id = \"ATM\"\n",
    "adata = sdata[\"table\"]\n",
    "\n",
    "adata.uns[spatial_key] = {library_id: {}}\n",
    "adata.uns[spatial_key][library_id][\"images\"] = {}\n",
    "adata.uns[spatial_key][library_id][\"images\"] = {\"hires\": sdata[\"images\"]}\n",
    "adata.uns[spatial_key][library_id][\"scalefactors\"] = {\n",
    "    \"tissue_hires_scalef\": 0.1,\n",
    "    \"spot_diameter_fullres\": 0.1,\n",
    "}"
   ]
  },
  {
   "cell_type": "code",
   "execution_count": null,
   "id": "ff75b870",
   "metadata": {},
   "outputs": [],
   "source": [
    "adata.uns['spatial']"
   ]
  },
  {
   "cell_type": "code",
   "execution_count": null,
   "id": "18e0c73d",
   "metadata": {},
   "outputs": [],
   "source": [
    "sq.pl.spatial_scatter(adata, color=\"leiden\")"
   ]
  },
  {
   "cell_type": "code",
   "execution_count": null,
   "id": "bb836f35",
   "metadata": {},
   "outputs": [],
   "source": [
    "sq.gr.spatial_neighbors(adata, radius=300.0, coord_type=\"generic\")\n",
    "sq.pl.spatial_scatter(\n",
    "    adata,\n",
    "    color=\"leiden\",\n",
    "    connectivity_key=\"spatial_connectivities\",\n",
    "    edges_color=\"black\",\n",
    "    shape=None,\n",
    "    edges_width=5,\n",
    "    size=50,\n",
    ")"
   ]
  },
  {
   "cell_type": "markdown",
   "id": "dbda2764",
   "metadata": {},
   "source": [
    "### Testing"
   ]
  },
  {
   "cell_type": "code",
   "execution_count": null,
   "id": "de70f143",
   "metadata": {},
   "outputs": [],
   "source": [
    "sc.pp.normalize_total(adata)\n",
    "sc.pp.log1p(adata)\n",
    "sc.pp.pca(adata)\n",
    "sc.pp.neighbors(adata)\n",
    "sc.tl.umap(adata)\n",
    "sc.tl.leiden(adata)"
   ]
  },
  {
   "cell_type": "code",
   "execution_count": null,
   "id": "ea82fb9d",
   "metadata": {},
   "outputs": [],
   "source": [
    "sdata.tables.data[\"cells\"]"
   ]
  },
  {
   "cell_type": "code",
   "execution_count": null,
   "id": "f0743f49",
   "metadata": {},
   "outputs": [],
   "source": [
    "Interactive(sdata)"
   ]
  },
  {
   "cell_type": "code",
   "execution_count": null,
   "id": "d32f261e",
   "metadata": {},
   "outputs": [],
   "source": [
    "from spatialdata.models import get_table_keys\n",
    "\n",
    "region, region_key, instance_key = get_table_keys(sdata[\"table\"])\n",
    "print(region, region_key, instance_key)"
   ]
  },
  {
   "cell_type": "code",
   "execution_count": null,
   "id": "421a468f",
   "metadata": {},
   "outputs": [],
   "source": [
    "sdata[\"table\"].obs[[\"x\", \"y\"]].max()"
   ]
  },
  {
   "cell_type": "code",
   "execution_count": null,
   "id": "9654a618",
   "metadata": {},
   "outputs": [],
   "source": [
    "xdata = SpatialData.read(r\"C:\\Users\\aguco599\\Downloads\\data.zarr\")"
   ]
  },
  {
   "cell_type": "code",
   "execution_count": null,
   "id": "785dcec5",
   "metadata": {},
   "outputs": [],
   "source": [
    "xdata[\"table\"].obs"
   ]
  },
  {
   "cell_type": "code",
   "execution_count": null,
   "id": "0ed1f9ed",
   "metadata": {},
   "outputs": [],
   "source": [
    "Interactive(xdata)"
   ]
  },
  {
   "cell_type": "code",
   "execution_count": null,
   "id": "e954dba4",
   "metadata": {},
   "outputs": [],
   "source": []
  }
 ],
 "metadata": {
  "kernelspec": {
   "display_name": "Python 3 (ipykernel)",
   "language": "python",
   "name": "python3"
  },
  "language_info": {
   "codemirror_mode": {
    "name": "ipython",
    "version": 3
   },
   "file_extension": ".py",
   "mimetype": "text/x-python",
   "name": "python",
   "nbconvert_exporter": "python",
   "pygments_lexer": "ipython3",
   "version": "3.12.3"
  }
 },
 "nbformat": 4,
 "nbformat_minor": 5
}
