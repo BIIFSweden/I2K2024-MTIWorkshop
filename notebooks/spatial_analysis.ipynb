{
 "cells": [
  {
   "cell_type": "markdown",
   "id": "64363c52-0d98-4be1-bb7e-f98cfe43bec2",
   "metadata": {},
   "source": [
    "# Spatial analysis"
   ]
  },
  {
   "cell_type": "code",
   "execution_count": null,
   "id": "269075d2-940a-40f9-9cea-859bad10cbd0",
   "metadata": {},
   "outputs": [],
   "source": [
    "from pathlib import Path\n",
    "\n",
    "import numpy as np\n",
    "import tifffile\n",
    "from anndata import read_h5ad\n",
    "from spatialdata import SpatialData\n",
    "from spatialdata.models import Image2DModel, Labels2DModel, TableModel\n",
    "from napari_spatialdata import Interactive"
   ]
  },
  {
   "cell_type": "markdown",
   "id": "aa9be6ee-d5e4-4372-b50c-fd1753ab201b",
   "metadata": {},
   "source": [
    "## Data download"
   ]
  },
  {
   "cell_type": "code",
   "execution_count": null,
   "id": "9289eb04-3d96-42a8-8608-e56ae5740867",
   "metadata": {},
   "outputs": [],
   "source": [
    "# TODO"
   ]
  },
  {
   "cell_type": "markdown",
   "id": "0f186f7b-9432-4d3d-b5af-086338ea6211",
   "metadata": {},
   "source": [
    "## SpatialData construction"
   ]
  },
  {
   "cell_type": "code",
   "execution_count": null,
   "id": "2ac4d0c8-b260-4fb1-99f2-d5b10e0b911f",
   "metadata": {},
   "outputs": [],
   "source": [
    "pipex_dir = \"../data/pipex_small\"\n",
    "sdata_file = \"../data/pipex_small.zarr\""
   ]
  },
  {
   "cell_type": "code",
   "execution_count": null,
   "id": "9c152258-5216-487a-8882-5282c6c627bd",
   "metadata": {},
   "outputs": [],
   "source": [
    "channels = []\n",
    "channel_imgs = []\n",
    "for channel_img_file in sorted(Path(pipex_dir).glob(\"*.tif\")):\n",
    "    channel_img = tifffile.imread(channel_img_file)\n",
    "    channels.append(channel_img_file.stem)\n",
    "    channel_imgs.append(channel_img)\n",
    "img = np.stack(channel_imgs)\n",
    "img.shape"
   ]
  },
  {
   "cell_type": "code",
   "execution_count": null,
   "id": "e88ee376-cb38-4a13-8e65-07d0d387e976",
   "metadata": {},
   "outputs": [],
   "source": [
    "labels_file = Path(pipex_dir) / \"analysis\" / \"segmentation_data.npy\"\n",
    "labels = np.load(labels_file).astype(np.uint16)\n",
    "labels.shape"
   ]
  },
  {
   "cell_type": "code",
   "execution_count": null,
   "id": "08b0a289-9a98-43d2-80af-3ff98713f5b5",
   "metadata": {},
   "outputs": [],
   "source": [
    "cells_file = Path(pipex_dir) / \"analysis\" / \"downstream\" / \"anndata.h5ad\"\n",
    "cells = read_h5ad(cells_file) \n",
    "cells"
   ]
  },
  {
   "cell_type": "code",
   "execution_count": null,
   "id": "74fffd39-97ea-4e33-bd4d-9d55e5565e78",
   "metadata": {},
   "outputs": [],
   "source": [
    "sdata = SpatialData(\n",
    "    images={\"img\": Image2DModel.parse(img, dims=(\"c\", \"y\", \"x\"), c_coords=channels)},\n",
    "    labels={\"labels\": Labels2DModel.parse(labels, dims=(\"y\", \"x\"))},\n",
    "    tables={\"cells\": TableModel.parse(cells)},\n",
    ")\n",
    "sdata.write(sdata_file, overwrite=True)\n",
    "sdata"
   ]
  },
  {
   "cell_type": "code",
   "execution_count": null,
   "id": "d13c6579-1d98-464b-af3b-80233b344d00",
   "metadata": {},
   "outputs": [],
   "source": [
    "Interactive(sdata)"
   ]
  },
  {
   "cell_type": "markdown",
   "id": "9faf1707-bdb0-4a37-9c79-7663999a06a0",
   "metadata": {},
   "source": [
    "## Spatial single-cell analysis"
   ]
  },
  {
   "cell_type": "code",
   "execution_count": null,
   "id": "b0250b31-21c1-498e-bd88-666759bb333c",
   "metadata": {},
   "outputs": [],
   "source": [
    "# TODO"
   ]
  }
 ],
 "metadata": {
  "kernelspec": {
   "display_name": "Python 3 (ipykernel)",
   "language": "python",
   "name": "python3"
  },
  "language_info": {
   "codemirror_mode": {
    "name": "ipython",
    "version": 3
   },
   "file_extension": ".py",
   "mimetype": "text/x-python",
   "name": "python",
   "nbconvert_exporter": "python",
   "pygments_lexer": "ipython3",
   "version": "3.12.6"
  }
 },
 "nbformat": 4,
 "nbformat_minor": 5
}
